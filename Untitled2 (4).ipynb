{
 "cells": [
  {
   "cell_type": "code",
   "execution_count": 9,
   "id": "cfacc59c-f09b-4eaf-82d0-571f45940d1f",
   "metadata": {},
   "outputs": [
    {
     "name": "stdin",
     "output_type": "stream",
     "text": [
      "Enter elements of the first set separated by spaces:  3 5 6 7 8 9 3 2 \n",
      "Enter elements of the second set separated by spaces:  23 34 56 67 78 98 \n"
     ]
    },
    {
     "name": "stdout",
     "output_type": "stream",
     "text": [
      "Union of set1 and set2 is {2, 3, 34, 5, 6, 7, 8, 9, 67, 98, 78, 23, 56}\n",
      "Intersection of set1 and set2 is set()\n",
      "Difference of set1 and set2 is {2, 3, 5, 6, 7, 8, 9}\n",
      "Difference of set2 and set1 is {34, 67, 98, 78, 23, 56}\n",
      "Symmetric difference of set1 and set2 is {2, 67, 3, 5, 6, 7, 8, 9, 78, 23, 34, 98, 56}\n"
     ]
    }
   ],
   "source": [
    "elements_set1 = input(\"Enter elements of the first set separated by spaces: \").split()\n",
    "set1 = set(map(int, elements_set1))\n",
    "\n",
    "elements_set2 = input(\"Enter elements of the second set separated by spaces: \").split()\n",
    "set2 = set(map(int, elements_set2))\n",
    "\n",
    "union = set1.union(set2)\n",
    "print(\"Union of set1 and set2 is\", union)\n",
    "\n",
    "intersection = set1.intersection(set2)\n",
    "print(\"Intersection of set1 and set2 is\", intersection)\n",
    "\n",
    "difference1 = set1.difference(set2)\n",
    "difference2 = set2.difference(set1)\n",
    "print(\"Difference of set1 and set2 is\", difference1)\n",
    "print(\"Difference of set2 and set1 is\", difference2)\n",
    "\n",
    "symmetric_difference = set1.symmetric_difference(set2)\n",
    "print(\"Symmetric difference of set1 and set2 is\", symmetric_difference)\n"
   ]
  },
  {
   "cell_type": "code",
   "execution_count": null,
   "id": "485c6215-5aef-462d-9f8e-3934c2f54f11",
   "metadata": {},
   "outputs": [],
   "source": []
  },
  {
   "cell_type": "code",
   "execution_count": null,
   "id": "cd567a2c-a4b5-4204-8756-0e3e20333c63",
   "metadata": {},
   "outputs": [],
   "source": []
  }
 ],
 "metadata": {
  "kernelspec": {
   "display_name": "Python 3 (ipykernel)",
   "language": "python",
   "name": "python3"
  },
  "language_info": {
   "codemirror_mode": {
    "name": "ipython",
    "version": 3
   },
   "file_extension": ".py",
   "mimetype": "text/x-python",
   "name": "python",
   "nbconvert_exporter": "python",
   "pygments_lexer": "ipython3",
   "version": "3.11.7"
  }
 },
 "nbformat": 4,
 "nbformat_minor": 5
}

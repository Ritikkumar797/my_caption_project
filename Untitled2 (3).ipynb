{
 "cells": [
  {
   "cell_type": "code",
   "execution_count": 8,
   "id": "cfacc59c-f09b-4eaf-82d0-571f45940d1f",
   "metadata": {},
   "outputs": [
    {
     "name": "stdin",
     "output_type": "stream",
     "text": [
      "Enter the number for the list:  5\n",
      "Enter number 1:  -9\n",
      "Enter number 2:  -8\n",
      "Enter number 3:  7\n",
      "Enter number 4:  6\n",
      "Enter number 5:  5\n"
     ]
    },
    {
     "name": "stdout",
     "output_type": "stream",
     "text": [
      "7\n",
      "6\n",
      "5\n"
     ]
    }
   ],
   "source": [
    "n = int(input(\"Enter the number for the list: \"))\n",
    "list1 = []\n",
    "for i in range(n):\n",
    "    y = int(input(f\"Enter number {i+1}: \"))\n",
    "    list1.append(y)\n",
    "for num in list1:\n",
    "    if num > 0:\n",
    "        print(num)\n"
   ]
  },
  {
   "cell_type": "code",
   "execution_count": null,
   "id": "485c6215-5aef-462d-9f8e-3934c2f54f11",
   "metadata": {},
   "outputs": [],
   "source": []
  },
  {
   "cell_type": "code",
   "execution_count": null,
   "id": "cd567a2c-a4b5-4204-8756-0e3e20333c63",
   "metadata": {},
   "outputs": [],
   "source": []
  }
 ],
 "metadata": {
  "kernelspec": {
   "display_name": "Python 3 (ipykernel)",
   "language": "python",
   "name": "python3"
  },
  "language_info": {
   "codemirror_mode": {
    "name": "ipython",
    "version": 3
   },
   "file_extension": ".py",
   "mimetype": "text/x-python",
   "name": "python",
   "nbconvert_exporter": "python",
   "pygments_lexer": "ipython3",
   "version": "3.11.7"
  }
 },
 "nbformat": 4,
 "nbformat_minor": 5
}

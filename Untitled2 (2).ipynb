{
 "cells": [
  {
   "cell_type": "code",
   "execution_count": 5,
   "id": "cfacc59c-f09b-4eaf-82d0-571f45940d1f",
   "metadata": {},
   "outputs": [
    {
     "name": "stdin",
     "output_type": "stream",
     "text": [
      "Enter the number for list  4\n",
      "Enter number1:  -9\n",
      "Enter number2:  -8\n",
      "Enter number3:  7\n",
      "Enter number4:  6\n"
     ]
    },
    {
     "name": "stdout",
     "output_type": "stream",
     "text": [
      "list[1]\n",
      "list[2]\n",
      "list[3]\n"
     ]
    }
   ],
   "source": [
    "n=int(input(\"Enter the number for list \"))\n",
    "list1=[]\n",
    "for i in range(n):\n",
    "    y=int(input(f\"Enter number{i+1}: \"))\n",
    "    list1.append(y)\n",
    "for num in range(n):\n",
    "    if num>0:\n",
    "        print(list[i])"
   ]
  },
  {
   "cell_type": "code",
   "execution_count": null,
   "id": "485c6215-5aef-462d-9f8e-3934c2f54f11",
   "metadata": {},
   "outputs": [],
   "source": []
  },
  {
   "cell_type": "code",
   "execution_count": null,
   "id": "cd567a2c-a4b5-4204-8756-0e3e20333c63",
   "metadata": {},
   "outputs": [],
   "source": []
  }
 ],
 "metadata": {
  "kernelspec": {
   "display_name": "Python 3 (ipykernel)",
   "language": "python",
   "name": "python3"
  },
  "language_info": {
   "codemirror_mode": {
    "name": "ipython",
    "version": 3
   },
   "file_extension": ".py",
   "mimetype": "text/x-python",
   "name": "python",
   "nbconvert_exporter": "python",
   "pygments_lexer": "ipython3",
   "version": "3.11.7"
  }
 },
 "nbformat": 4,
 "nbformat_minor": 5
}
